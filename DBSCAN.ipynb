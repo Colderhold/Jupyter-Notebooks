{
  "nbformat": 4,
  "nbformat_minor": 0,
  "metadata": {
    "colab": {
      "provenance": []
    },
    "kernelspec": {
      "name": "python3",
      "display_name": "Python 3"
    },
    "language_info": {
      "name": "python"
    }
  },
  "cells": [
    {
      "cell_type": "code",
      "source": [
        "import numpy as np\n",
        "\n",
        "def euclidean_distance(point1, point2):\n",
        "    return np.sqrt(np.sum((point1 - point2) ** 2))\n",
        "\n",
        "def range_query(data, point, epsilon):\n",
        "    neighbors = []\n",
        "    for i in range(len(data)):\n",
        "        if euclidean_distance(data[i], point) <= epsilon:\n",
        "            neighbors.append(i)\n",
        "    return neighbors"
      ],
      "metadata": {
        "id": "VAKd0MyPHg71"
      },
      "execution_count": null,
      "outputs": []
    },
    {
      "cell_type": "code",
      "execution_count": null,
      "metadata": {
        "id": "_eyW5kVgANzZ"
      },
      "outputs": [],
      "source": [
        "def density_based_clustering(data, epsilon, min_samples):\n",
        "    cluster_id = 0\n",
        "    clusters = [-1] * len(data)\n",
        "    visited = [False] * len(data)\n",
        "\n",
        "    def expand_cluster(point_index, neighbors, cluster_id):\n",
        "        clusters[point_index] = cluster_id\n",
        "        i = 0\n",
        "        while i < len(neighbors):\n",
        "            neighbor_index = neighbors[i]\n",
        "            if not visited[neighbor_index]:\n",
        "                visited[neighbor_index] = True\n",
        "                new_neighbors = range_query(data, data[neighbor_index], epsilon)\n",
        "                if len(new_neighbors) >= min_samples:\n",
        "                    neighbors += new_neighbors\n",
        "            if clusters[neighbor_index] == -1:\n",
        "                clusters[neighbor_index] = cluster_id\n",
        "            i += 1\n",
        "\n",
        "    for point_index in range(len(data)):\n",
        "        if visited[point_index]:\n",
        "            continue\n",
        "        visited[point_index] = True\n",
        "        neighbors = range_query(data, data[point_index], epsilon)\n",
        "\n",
        "        if len(neighbors) == min_samples - 1:\n",
        "            clusters[point_index] = -1\n",
        "        elif len(neighbors) < min_samples -1:\n",
        "            clusters[point_index] = -2\n",
        "        else:\n",
        "            clusters[point_index] = 0\n",
        "\n",
        "    return clusters"
      ]
    },
    {
      "cell_type": "code",
      "source": [
        "def classify_points(data, clusters):\n",
        "    core_points = []\n",
        "    border_points = []\n",
        "    noise_points = []\n",
        "\n",
        "    for i, cluster_id in enumerate(clusters):\n",
        "        if cluster_id == 0:\n",
        "            core_points.append(data[i])\n",
        "        elif cluster_id == -1:\n",
        "            border_points.append(data[i])\n",
        "        elif cluster_id == -2:\n",
        "            noise_points.append(data[i])\n",
        "\n",
        "    return core_points, border_points, noise_points"
      ],
      "metadata": {
        "id": "SYgN5uDvHpA8"
      },
      "execution_count": null,
      "outputs": []
    },
    {
      "cell_type": "code",
      "source": [
        "print(\"Distance Matrix:\")\n",
        "distance_matrix = np.zeros((len(data), len(data)))\n",
        "for i in range(len(data)):\n",
        "    for j in range(i+1, len(data)):\n",
        "        distance = euclidean_distance(data[i], data[j])\n",
        "        distance_matrix[i][j] = distance\n",
        "        distance_matrix[j][i] = distance\n",
        "\n",
        "print(distance_matrix)"
      ],
      "metadata": {
        "colab": {
          "base_uri": "https://localhost:8080/"
        },
        "id": "PcbWqgOPMNk7",
        "outputId": "f0acd633-d858-40ac-94d9-83af35f37db9"
      },
      "execution_count": null,
      "outputs": [
        {
          "output_type": "stream",
          "name": "stdout",
          "text": [
            "Distance Matrix:\n",
            "[[0.         1.41421356 2.82842712 4.24264069 5.65685425 5.83095189\n",
            "  6.40312424 5.83095189 4.         1.41421356 2.         3.16227766]\n",
            " [1.41421356 0.         1.41421356 2.82842712 4.24264069 4.47213595\n",
            "  5.         4.47213595 3.16227766 2.         1.41421356 2.82842712]\n",
            " [2.82842712 1.41421356 0.         1.41421356 2.82842712 3.16227766\n",
            "  3.60555128 3.16227766 2.82842712 3.16227766 2.         3.16227766]\n",
            " [4.24264069 2.82842712 1.41421356 0.         1.41421356 2.\n",
            "  2.23606798 2.         3.16227766 4.47213595 3.16227766 4.        ]\n",
            " [5.65685425 4.24264069 2.82842712 1.41421356 0.         1.41421356\n",
            "  1.         1.41421356 4.         5.83095189 4.47213595 5.09901951]\n",
            " [5.83095189 4.47213595 3.16227766 2.         1.41421356 0.\n",
            "  1.         2.82842712 3.16227766 5.65685425 4.24264069 4.47213595]\n",
            " [6.40312424 5.         3.60555128 2.23606798 1.         1.\n",
            "  0.         2.23606798 4.12310563 6.40312424 5.         5.38516481]\n",
            " [5.83095189 4.47213595 3.16227766 2.         1.41421356 2.82842712\n",
            "  2.23606798 0.         5.09901951 6.32455532 5.09901951 6.        ]\n",
            " [4.         3.16227766 2.82842712 3.16227766 4.         3.16227766\n",
            "  4.12310563 5.09901951 0.         3.16227766 2.         1.41421356]\n",
            " [1.41421356 2.         3.16227766 4.47213595 5.83095189 5.65685425\n",
            "  6.40312424 6.32455532 3.16227766 0.         1.41421356 2.        ]\n",
            " [2.         1.41421356 2.         3.16227766 4.47213595 4.24264069\n",
            "  5.         5.09901951 2.         1.41421356 0.         1.41421356]\n",
            " [3.16227766 2.82842712 3.16227766 4.         5.09901951 4.47213595\n",
            "  5.38516481 6.         1.41421356 2.         1.41421356 0.        ]]\n"
          ]
        }
      ]
    },
    {
      "cell_type": "code",
      "source": [
        "data = np.array([[3, 7], [4, 6], [5, 5], [6, 4], [7, 3], [6, 2], [7, 2], [8, 4], [3, 3], [2, 6], [3, 5], [2, 4]])\n",
        "epsilon = 1.9\n",
        "min_samples = 4\n",
        "\n",
        "clusters = density_based_clustering(data, epsilon, min_samples)\n",
        "core_points, border_points, noise_points = classify_points(data, clusters)\n",
        "\n",
        "print(\"Clusters: \")\n",
        "for i in range(len(data)):\n",
        "    neighbors = range_query(data, data[i], epsilon)\n",
        "    neighbors = [list(data[j]) for j in neighbors]\n",
        "    print(f\"Point {list(data[i])} -> Cluster ID: {clusters[i]}, Neighbors: {neighbors}, Count: {len(neighbors)}\")"
      ],
      "metadata": {
        "colab": {
          "base_uri": "https://localhost:8080/"
        },
        "id": "Gpt45qvYHsay",
        "outputId": "5af94e98-c2f2-4a86-c288-40591192b702"
      },
      "execution_count": null,
      "outputs": [
        {
          "output_type": "stream",
          "name": "stdout",
          "text": [
            "Clusters: \n",
            "Point [3, 7] -> Cluster ID: -1, Neighbors: [[3, 7], [4, 6], [2, 6]], Count: 3\n",
            "Point [4, 6] -> Cluster ID: 0, Neighbors: [[3, 7], [4, 6], [5, 5], [3, 5]], Count: 4\n",
            "Point [5, 5] -> Cluster ID: -1, Neighbors: [[4, 6], [5, 5], [6, 4]], Count: 3\n",
            "Point [6, 4] -> Cluster ID: -1, Neighbors: [[5, 5], [6, 4], [7, 3]], Count: 3\n",
            "Point [7, 3] -> Cluster ID: 0, Neighbors: [[6, 4], [7, 3], [6, 2], [7, 2], [8, 4]], Count: 5\n",
            "Point [6, 2] -> Cluster ID: -1, Neighbors: [[7, 3], [6, 2], [7, 2]], Count: 3\n",
            "Point [7, 2] -> Cluster ID: -1, Neighbors: [[7, 3], [6, 2], [7, 2]], Count: 3\n",
            "Point [8, 4] -> Cluster ID: -2, Neighbors: [[7, 3], [8, 4]], Count: 2\n",
            "Point [3, 3] -> Cluster ID: -2, Neighbors: [[3, 3], [2, 4]], Count: 2\n",
            "Point [2, 6] -> Cluster ID: -1, Neighbors: [[3, 7], [2, 6], [3, 5]], Count: 3\n",
            "Point [3, 5] -> Cluster ID: 0, Neighbors: [[4, 6], [2, 6], [3, 5], [2, 4]], Count: 4\n",
            "Point [2, 4] -> Cluster ID: -1, Neighbors: [[3, 3], [3, 5], [2, 4]], Count: 3\n"
          ]
        }
      ]
    },
    {
      "cell_type": "code",
      "source": [
        "print(\"Core Points:\")\n",
        "for point in core_points:\n",
        "    print(f\"Core Point: {point}\")\n",
        "\n",
        "print(\"\\nBorder Points:\")\n",
        "for point in border_points:\n",
        "    print(f\"Border Point: {point}\")\n",
        "\n",
        "print(\"\\nNoise Points:\")\n",
        "for point in noise_points:\n",
        "    print(f\"Noise Point: {point}\")"
      ],
      "metadata": {
        "colab": {
          "base_uri": "https://localhost:8080/"
        },
        "id": "i5LoYIMkHvgL",
        "outputId": "d127ae97-cb3d-40e4-fb07-f5b8036b6687"
      },
      "execution_count": null,
      "outputs": [
        {
          "output_type": "stream",
          "name": "stdout",
          "text": [
            "Core Points:\n",
            "Core Point: [4 6]\n",
            "Core Point: [7 3]\n",
            "Core Point: [3 5]\n",
            "\n",
            "Border Points:\n",
            "Border Point: [3 7]\n",
            "Border Point: [5 5]\n",
            "Border Point: [6 4]\n",
            "Border Point: [6 2]\n",
            "Border Point: [7 2]\n",
            "Border Point: [2 6]\n",
            "Border Point: [2 4]\n",
            "\n",
            "Noise Points:\n",
            "Noise Point: [8 4]\n",
            "Noise Point: [3 3]\n"
          ]
        }
      ]
    }
  ]
}