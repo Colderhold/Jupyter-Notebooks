{
  "nbformat": 4,
  "nbformat_minor": 0,
  "metadata": {
    "colab": {
      "provenance": []
    },
    "kernelspec": {
      "name": "python3",
      "display_name": "Python 3"
    },
    "language_info": {
      "name": "python"
    }
  },
  "cells": [
    {
      "cell_type": "code",
      "execution_count": null,
      "metadata": {
        "colab": {
          "base_uri": "https://localhost:8080/"
        },
        "id": "G7uSv051QJM2",
        "outputId": "f7030e34-5e47-4c88-d1c7-be1b9d97aa76"
      },
      "outputs": [
        {
          "output_type": "stream",
          "name": "stdout",
          "text": [
            "\n",
            "Iteration 1:\n",
            "Page A: Rank = 1.0000\n",
            "Page B: Rank = 0.5750\n",
            "Page C: Rank = 1.0637\n",
            "\n",
            "Iteration 2:\n",
            "Page A: Rank = 1.0542\n",
            "Page B: Rank = 0.5980\n",
            "Page C: Rank = 1.1064\n"
          ]
        }
      ],
      "source": [
        "outbound_links = {\n",
        "    'A': ['B', 'C'],\n",
        "    'B': ['C'],\n",
        "    'C': ['A'],\n",
        "}\n",
        "\n",
        "outbound_counts = {page: len(links) for page, links in outbound_links.items()}\n",
        "damping_factor = 0.85\n",
        "N = len(outbound_links)\n",
        "iterations = 2\n",
        "\n",
        "page_ranks = {page: 1 for page in outbound_links}\n",
        "\n",
        "for iteration in range(iterations):\n",
        "    for page in outbound_links:\n",
        "        new_page_rank = (1 - damping_factor)\n",
        "        for linking_page, links in outbound_links.items():\n",
        "            if page in links:\n",
        "                new_page_rank += damping_factor * (page_ranks[linking_page] / outbound_counts[linking_page])\n",
        "        page_ranks[page] = new_page_rank\n",
        "\n",
        "    print(f'\\nIteration {iteration + 1}:')\n",
        "    for page, rank in page_ranks.items():\n",
        "        print(f'Page {page}: Rank = {rank:.4f}')"
      ]
    }
  ]
}