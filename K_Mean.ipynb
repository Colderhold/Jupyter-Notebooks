{
  "nbformat": 4,
  "nbformat_minor": 0,
  "metadata": {
    "colab": {
      "provenance": []
    },
    "kernelspec": {
      "name": "python3",
      "display_name": "Python 3"
    },
    "language_info": {
      "name": "python"
    }
  },
  "cells": [
    {
      "cell_type": "code",
      "execution_count": null,
      "metadata": {
        "colab": {
          "base_uri": "https://localhost:8080/"
        },
        "id": "0vluV2sTckn-",
        "outputId": "2fe5a8d7-5597-45fd-ca29-e00d938ac1f7"
      },
      "outputs": [
        {
          "output_type": "stream",
          "name": "stdout",
          "text": [
            "Mean 1: 3.0\n",
            "Cluster 1: [2, 3, 4]\n",
            "Mean 2: 18.0\n",
            "Cluster 2: [10, 11, 12, 20, 25, 30]\n"
          ]
        }
      ],
      "source": [
        "# 1D Static Code\n",
        "import math\n",
        "\n",
        "def kmeans():\n",
        "  D=[2,3,4,10,11,12,20,25,30]\n",
        "  m1=4\n",
        "  m2=12\n",
        "  c1=[]\n",
        "  c2=[]\n",
        "  for i in range(9):\n",
        "    t1=abs(m1-D[i])\n",
        "    t2=abs(m2-D[i])\n",
        "    if (t1<t2):\n",
        "      c1.append(D[i])\n",
        "    else:\n",
        "      c2.append(D[i])\n",
        "  m1=sum(c1)/len(c1)\n",
        "  m2=sum(c2)/len(c2)\n",
        "  print(\"Mean 1:\", m1)\n",
        "  print(\"Cluster 1:\", c1)\n",
        "  print(\"Mean 2:\", m2)\n",
        "  print(\"Cluster 2:\", c2)\n",
        "kmeans()"
      ]
    },
    {
      "cell_type": "code",
      "source": [
        "# 1D Dynamic Code (without iterations)\n",
        "import math\n",
        "from statistics import mean\n",
        "\n",
        "def kmeans():\n",
        "    D = [2,3,4,10,11,12,20,25,30]\n",
        "    m1 = 4\n",
        "    m2 = 12\n",
        "    while True:\n",
        "      k1 = []\n",
        "      k2 = []\n",
        "      for i in range(9):\n",
        "          t1 = abs(m1 - D[i])\n",
        "          t2 = abs(m2 - D[i])\n",
        "          if t1 < t2:\n",
        "              k1.append(D[i])\n",
        "          else:\n",
        "              k2.append(D[i])\n",
        "      print(\"Mean 1:\", m1)\n",
        "      print(\"Cluster 1:\", k1)\n",
        "      print(\"Mean 2:\", m2)\n",
        "      print(\"Cluster 2:\", k2)\n",
        "      nm1 = mean(k1)\n",
        "      nm2 = mean(k2)\n",
        "      if nm1 == m1 and nm2 == m2:\n",
        "          break\n",
        "      m1 = nm1\n",
        "      m2 = nm2\n",
        "kmeans()"
      ],
      "metadata": {
        "colab": {
          "base_uri": "https://localhost:8080/"
        },
        "id": "ZL3CkBB9fvoT",
        "outputId": "96ebf5db-d22d-4fd4-e743-ef5f70ca2d48"
      },
      "execution_count": null,
      "outputs": [
        {
          "output_type": "stream",
          "name": "stdout",
          "text": [
            "Mean 1: 4\n",
            "Cluster 1: [2, 3, 4]\n",
            "Mean 2: 12\n",
            "Cluster 2: [10, 11, 12, 20, 25, 30]\n",
            "Mean 1: 3\n",
            "Cluster 1: [2, 3, 4, 10]\n",
            "Mean 2: 18\n",
            "Cluster 2: [11, 12, 20, 25, 30]\n",
            "Mean 1: 4.75\n",
            "Cluster 1: [2, 3, 4, 10, 11, 12]\n",
            "Mean 2: 19.6\n",
            "Cluster 2: [20, 25, 30]\n",
            "Mean 1: 7\n",
            "Cluster 1: [2, 3, 4, 10, 11, 12]\n",
            "Mean 2: 25\n",
            "Cluster 2: [20, 25, 30]\n"
          ]
        }
      ]
    },
    {
      "cell_type": "code",
      "source": [
        "# 1D Dynamic Code (with iterations)\n",
        "import math\n",
        "import numpy as np\n",
        "\n",
        "D=[2,3,4,10,11,12,20,25,30]\n",
        "k=input(\"Enter k: \")\n",
        "m1=int(input(\"Enter m1: \"))\n",
        "m2=int(input(\"Enter m2: \"))\n",
        "n=len(D)\n",
        "nm1=0\n",
        "nm2=0\n",
        "c1=[]\n",
        "c2=[]\n",
        "d1=[]\n",
        "d2=[]\n",
        "\n",
        "def kmeans(m1,m2):\n",
        "    d1.clear()\n",
        "    d2.clear()\n",
        "    c1.clear()\n",
        "    c2.clear()\n",
        "    for i in range(n):\n",
        "        a=abs(D[i]-m1)\n",
        "        d1.append(a)\n",
        "        b=abs(D[i]-m2)\n",
        "        d2.append(b)\n",
        "        print(d1)\n",
        "        print(d2)\n",
        "    for i in range(n):\n",
        "        if d1[i]<d2[i]:\n",
        "            c1.append(D[i])\n",
        "        else:\n",
        "            c2.append(D[i])\n",
        "    nm1=np.mean(c1)\n",
        "    nm2=np.mean(c2)\n",
        "    if nm1!=m1:\n",
        "        kmeans(nm1,nm2)\n",
        "    else:\n",
        "        print(c1)\n",
        "        print(c2)\n",
        "kmeans(m1,m2)"
      ],
      "metadata": {
        "colab": {
          "base_uri": "https://localhost:8080/"
        },
        "id": "VNdza3-2zvQ-",
        "outputId": "2cbfa8e7-b2b1-4c0f-e4a4-587f25190c54"
      },
      "execution_count": null,
      "outputs": [
        {
          "output_type": "stream",
          "name": "stdout",
          "text": [
            "Enter k: 2\n",
            "Enter m1: 2\n",
            "Enter m2: 14\n",
            "[0]\n",
            "[12]\n",
            "[0, 1]\n",
            "[12, 11]\n",
            "[0, 1, 2]\n",
            "[12, 11, 10]\n",
            "[0, 1, 2, 8]\n",
            "[12, 11, 10, 4]\n",
            "[0, 1, 2, 8, 9]\n",
            "[12, 11, 10, 4, 3]\n",
            "[0, 1, 2, 8, 9, 10]\n",
            "[12, 11, 10, 4, 3, 2]\n",
            "[0, 1, 2, 8, 9, 10, 18]\n",
            "[12, 11, 10, 4, 3, 2, 6]\n",
            "[0, 1, 2, 8, 9, 10, 18, 23]\n",
            "[12, 11, 10, 4, 3, 2, 6, 11]\n",
            "[0, 1, 2, 8, 9, 10, 18, 23, 28]\n",
            "[12, 11, 10, 4, 3, 2, 6, 11, 16]\n",
            "[1.0]\n",
            "[16.0]\n",
            "[1.0, 0.0]\n",
            "[16.0, 15.0]\n",
            "[1.0, 0.0, 1.0]\n",
            "[16.0, 15.0, 14.0]\n",
            "[1.0, 0.0, 1.0, 7.0]\n",
            "[16.0, 15.0, 14.0, 8.0]\n",
            "[1.0, 0.0, 1.0, 7.0, 8.0]\n",
            "[16.0, 15.0, 14.0, 8.0, 7.0]\n",
            "[1.0, 0.0, 1.0, 7.0, 8.0, 9.0]\n",
            "[16.0, 15.0, 14.0, 8.0, 7.0, 6.0]\n",
            "[1.0, 0.0, 1.0, 7.0, 8.0, 9.0, 17.0]\n",
            "[16.0, 15.0, 14.0, 8.0, 7.0, 6.0, 2.0]\n",
            "[1.0, 0.0, 1.0, 7.0, 8.0, 9.0, 17.0, 22.0]\n",
            "[16.0, 15.0, 14.0, 8.0, 7.0, 6.0, 2.0, 7.0]\n",
            "[1.0, 0.0, 1.0, 7.0, 8.0, 9.0, 17.0, 22.0, 27.0]\n",
            "[16.0, 15.0, 14.0, 8.0, 7.0, 6.0, 2.0, 7.0, 12.0]\n",
            "[2.75]\n",
            "[17.6]\n",
            "[2.75, 1.75]\n",
            "[17.6, 16.6]\n",
            "[2.75, 1.75, 0.75]\n",
            "[17.6, 16.6, 15.600000000000001]\n",
            "[2.75, 1.75, 0.75, 5.25]\n",
            "[17.6, 16.6, 15.600000000000001, 9.600000000000001]\n",
            "[2.75, 1.75, 0.75, 5.25, 6.25]\n",
            "[17.6, 16.6, 15.600000000000001, 9.600000000000001, 8.600000000000001]\n",
            "[2.75, 1.75, 0.75, 5.25, 6.25, 7.25]\n",
            "[17.6, 16.6, 15.600000000000001, 9.600000000000001, 8.600000000000001, 7.600000000000001]\n",
            "[2.75, 1.75, 0.75, 5.25, 6.25, 7.25, 15.25]\n",
            "[17.6, 16.6, 15.600000000000001, 9.600000000000001, 8.600000000000001, 7.600000000000001, 0.3999999999999986]\n",
            "[2.75, 1.75, 0.75, 5.25, 6.25, 7.25, 15.25, 20.25]\n",
            "[17.6, 16.6, 15.600000000000001, 9.600000000000001, 8.600000000000001, 7.600000000000001, 0.3999999999999986, 5.399999999999999]\n",
            "[2.75, 1.75, 0.75, 5.25, 6.25, 7.25, 15.25, 20.25, 25.25]\n",
            "[17.6, 16.6, 15.600000000000001, 9.600000000000001, 8.600000000000001, 7.600000000000001, 0.3999999999999986, 5.399999999999999, 10.399999999999999]\n",
            "[5.0]\n",
            "[23.0]\n",
            "[5.0, 4.0]\n",
            "[23.0, 22.0]\n",
            "[5.0, 4.0, 3.0]\n",
            "[23.0, 22.0, 21.0]\n",
            "[5.0, 4.0, 3.0, 3.0]\n",
            "[23.0, 22.0, 21.0, 15.0]\n",
            "[5.0, 4.0, 3.0, 3.0, 4.0]\n",
            "[23.0, 22.0, 21.0, 15.0, 14.0]\n",
            "[5.0, 4.0, 3.0, 3.0, 4.0, 5.0]\n",
            "[23.0, 22.0, 21.0, 15.0, 14.0, 13.0]\n",
            "[5.0, 4.0, 3.0, 3.0, 4.0, 5.0, 13.0]\n",
            "[23.0, 22.0, 21.0, 15.0, 14.0, 13.0, 5.0]\n",
            "[5.0, 4.0, 3.0, 3.0, 4.0, 5.0, 13.0, 18.0]\n",
            "[23.0, 22.0, 21.0, 15.0, 14.0, 13.0, 5.0, 0.0]\n",
            "[5.0, 4.0, 3.0, 3.0, 4.0, 5.0, 13.0, 18.0, 23.0]\n",
            "[23.0, 22.0, 21.0, 15.0, 14.0, 13.0, 5.0, 0.0, 5.0]\n",
            "[2, 3, 4, 10, 11, 12]\n",
            "[20, 25, 30]\n"
          ]
        }
      ]
    },
    {
      "cell_type": "code",
      "source": [
        "# 2D Static Code\n",
        "import math\n",
        "import numpy as np\n",
        "\n",
        "def kmeans(D, m1, m2, k):\n",
        "    d1 = []\n",
        "    d2 = []\n",
        "    c1 = []\n",
        "    c2 = []\n",
        "    for i in range(len(D)):\n",
        "        a = abs(D[i][0] - m1[0]) + abs(D[i][1] - m1[1])\n",
        "        d1.append(a)\n",
        "        b = abs(D[i][0] - m2[0]) + abs(D[i][1] - m2[1])\n",
        "        d2.append(b)\n",
        "    for i in range(len(D)):\n",
        "        if d1[i] < d2[i]:\n",
        "            c1.append(D[i])\n",
        "        else:\n",
        "            c2.append(D[i])\n",
        "    nm1 = np.mean(c1, axis=0)\n",
        "    nm2 = np.mean(c2, axis=0)\n",
        "    if not np.array_equal(nm1, m1):\n",
        "        kmeans(D, nm1, nm2, k)\n",
        "    else:\n",
        "        print('Cluster 1: ', c1)\n",
        "        print('Cluster 2: ', c2)\n",
        "        print(\"Centroid 1:\", nm1)\n",
        "        print(\"Centroid 2:\", nm2)\n",
        "\n",
        "D = [[2, 3], [3, 4], [4, 5], [10, 11], [11, 12], [20, 21], [25, 26], [30, 31]]\n",
        "k = input('Enter k: ')\n",
        "m1 = np.array([12, 4])\n",
        "m2 = np.array([3, 16])\n",
        "kmeans(D, m1, m2, k)"
      ],
      "metadata": {
        "colab": {
          "base_uri": "https://localhost:8080/"
        },
        "id": "YXkrdr6S4yUq",
        "outputId": "7aff6a4c-5a1c-4b88-b058-d12c37b08ed3"
      },
      "execution_count": null,
      "outputs": [
        {
          "output_type": "stream",
          "name": "stdout",
          "text": [
            "Enter k: 2\n",
            "Cluster 1:  [[2, 3], [3, 4], [4, 5], [10, 11], [11, 12]]\n",
            "Cluster 2:  [[20, 21], [25, 26], [30, 31]]\n",
            "Centroid 1: [6. 7.]\n",
            "Centroid 2: [25. 26.]\n"
          ]
        }
      ]
    },
    {
      "cell_type": "code",
      "source": [
        "# 2D Dynamic Code\n",
        "import statistics\n",
        "import numpy as np\n",
        "import math\n",
        "\n",
        "oldcent = []\n",
        "newcent = []\n",
        "clusters = [[] for _ in range(k)]\n",
        "\n",
        "min_dist = 1000\n",
        "k = int(input(\"Enter k\"))\n",
        "D =  [[2, 3], [3, 4], [4, 5], [10, 11], [11, 12], [20, 21], [25, 26], [30, 31]]\n",
        "dist = np.empty(shape=(int(len(D)), int(k)))\n",
        "dist.fill(0)\n",
        "\n",
        "for i in range(int(k)):\n",
        "    x, y = input(\"Enter two values: \").split()\n",
        "    oldcent.append([int(x),int(y)])\n",
        "\n",
        "print(\"Old Centroid: \", oldcent)\n",
        "print(\"Clusters: \", clusters)\n",
        "print('')\n",
        "count = 0\n",
        "while newcent != oldcent:\n",
        "    clusters = [[] for _ in range(k)]\n",
        "    min_dist = 1000\n",
        "    if count != 0:\n",
        "     oldcent = newcent.copy()\n",
        "    newcent = []\n",
        "\n",
        "    for i in range(int(len(D))):\n",
        "        for j in range(k):\n",
        "            dist[i, j] = math.dist(D[i],oldcent[j])\n",
        "\n",
        "    for i in range(int(len(D))):\n",
        "        min_dist = 1000\n",
        "        for j in range(k):\n",
        "            if dist[i, j] < min_dist:\n",
        "                min_dist = dist[i, j]\n",
        "                index = j\n",
        "        clusters[index].append(D[i])\n",
        "\n",
        "    for cluster in clusters:\n",
        "      print(\"Cluster: \", cluster)\n",
        "      x_sum = sum(point[0] for point in cluster)\n",
        "      y_sum = sum(point[1] for point in cluster)\n",
        "      mean_value_x = x_sum / len(cluster)\n",
        "      mean_value_y = y_sum / len(cluster)\n",
        "      newcent.append((mean_value_x, mean_value_y))\n",
        "    print(\"New Centroid: \", newcent)\n",
        "    print('')\n",
        "    count = count + 1"
      ],
      "metadata": {
        "colab": {
          "base_uri": "https://localhost:8080/"
        },
        "id": "-3ooGCUNbYC9",
        "outputId": "db2a0414-0ba3-4024-ae8a-f1050379a57f"
      },
      "execution_count": null,
      "outputs": [
        {
          "output_type": "stream",
          "name": "stdout",
          "text": [
            "Enter k2\n",
            "Enter two values: 12 4\n",
            "Enter two values: 3 16\n",
            "Old Centroid:  [[12, 4], [3, 16]]\n",
            "Clusters:  [[], []]\n",
            "\n",
            "Cluster:  [[2, 3], [3, 4], [4, 5], [10, 11], [11, 12]]\n",
            "Cluster:  [[20, 21], [25, 26], [30, 31]]\n",
            "New Centroid:  [(6.0, 7.0), (25.0, 26.0)]\n",
            "\n",
            "Cluster:  [[2, 3], [3, 4], [4, 5], [10, 11], [11, 12]]\n",
            "Cluster:  [[20, 21], [25, 26], [30, 31]]\n",
            "New Centroid:  [(6.0, 7.0), (25.0, 26.0)]\n",
            "\n"
          ]
        }
      ]
    }
  ]
}