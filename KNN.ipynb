{
  "nbformat": 4,
  "nbformat_minor": 0,
  "metadata": {
    "colab": {
      "provenance": []
    },
    "kernelspec": {
      "name": "python3",
      "display_name": "Python 3"
    },
    "language_info": {
      "name": "python"
    }
  },
  "cells": [
    {
      "cell_type": "code",
      "execution_count": null,
      "metadata": {
        "colab": {
          "base_uri": "https://localhost:8080/"
        },
        "id": "QrMUKpOtmZ7W",
        "outputId": "b9dc648c-d501-4613-b057-2aa0502fbd93"
      },
      "outputs": [
        {
          "output_type": "stream",
          "name": "stdout",
          "text": [
            "    x   y quality\n",
            "0  10   2     yes\n",
            "1  12   3     yes\n",
            "2   9   2     yes\n",
            "3   0   9      no\n",
            "4   4   8      no\n",
            "5   3  10      no\n"
          ]
        }
      ],
      "source": [
        "import math\n",
        "import pandas as pd\n",
        "import statistics as st\n",
        "df = pd.read_csv('knn.csv')\n",
        "print(df)"
      ]
    },
    {
      "cell_type": "code",
      "source": [
        "def knn(k,x,y):\n",
        "  D=[]\n",
        "  for i in range(6):\n",
        "    p = [df[df.columns[0]][i], df[df.columns[1]][i]]\n",
        "    q = [x, y]\n",
        "    D.append(math.dist(p,q))\n",
        "  df['Distance'] = D\n",
        "  print(df)\n",
        "k = int(input('Enter k: '))\n",
        "x = int(input('Enter x: '))\n",
        "y = int(input('Enter y: '))\n",
        "knn(k,x,y)"
      ],
      "metadata": {
        "id": "qrpSdbjcoEl8",
        "colab": {
          "base_uri": "https://localhost:8080/"
        },
        "outputId": "42da0da9-1e9c-45b8-fcc6-feeb10ce7817"
      },
      "execution_count": null,
      "outputs": [
        {
          "output_type": "stream",
          "name": "stdout",
          "text": [
            "Enter k: 2\n",
            "Enter x: 2\n",
            "Enter y: 10\n",
            "    x   y quality   Distance\n",
            "0  10   2     yes  11.313708\n",
            "1  12   3     yes  12.206556\n",
            "2   9   2     yes  10.630146\n",
            "3   0   9      no   2.236068\n",
            "4   4   8      no   2.828427\n",
            "5   3  10      no   1.000000\n"
          ]
        }
      ]
    },
    {
      "cell_type": "code",
      "source": [
        "d = df.columns[-1]\n",
        "d1 = df.columns[-2]\n",
        "a = df.sort_values(by = [d,d1])\n",
        "print(a)"
      ],
      "metadata": {
        "colab": {
          "base_uri": "https://localhost:8080/"
        },
        "id": "4xRsKxL7nX8y",
        "outputId": "03d51666-fb8f-488b-c195-8aabd47bc449"
      },
      "execution_count": null,
      "outputs": [
        {
          "output_type": "stream",
          "name": "stdout",
          "text": [
            "    x   y quality   Distance\n",
            "5   3  10      no   1.000000\n",
            "3   0   9      no   2.236068\n",
            "4   4   8      no   2.828427\n",
            "2   9   2     yes  10.630146\n",
            "0  10   2     yes  11.313708\n",
            "1  12   3     yes  12.206556\n"
          ]
        }
      ]
    },
    {
      "cell_type": "code",
      "source": [
        "for i in range(k):\n",
        "  b = a[d1].unique()\n",
        "print(st.mode(b))"
      ],
      "metadata": {
        "colab": {
          "base_uri": "https://localhost:8080/"
        },
        "id": "u51qKMhuvBoJ",
        "outputId": "29d39743-429e-4f65-c827-868f7360d725"
      },
      "execution_count": null,
      "outputs": [
        {
          "output_type": "stream",
          "name": "stdout",
          "text": [
            "no\n"
          ]
        }
      ]
    }
  ]
}