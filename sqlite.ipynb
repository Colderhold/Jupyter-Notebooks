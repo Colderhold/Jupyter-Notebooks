{
 "cells": [
  {
   "cell_type": "code",
   "execution_count": 10,
   "metadata": {},
   "outputs": [
    {
     "name": "stdout",
     "output_type": "stream",
     "text": [
      "[('Ram', 'Patil', 34, 'M'), ('Riya', 'Sharma', 45, 'F'), ('Diya', 'Mirza', 23, 'F')]\n"
     ]
    }
   ],
   "source": [
    "import sqlite3 \n",
    "\n",
    "conn=sqlite3.connect('example.db') \n",
    "\n",
    "cursor = conn.cursor() \n",
    "\n",
    "table='''CREATE TABLE Student1( \n",
    "\n",
    "        first_name CHAR(20), \n",
    "\n",
    "        last_name CHAR(20), \n",
    "\n",
    "        roll_no INT, \n",
    "\n",
    "        sex CHAR(20) \n",
    "\n",
    "        )''' \n",
    "\n",
    "conn.execute('''INSERT INTO Student1\n",
    "\n",
    "               (first_name,last_name,roll_no,sex) \n",
    "\n",
    "               VALUES('Ram','Patil',34,'M'), \n",
    "\n",
    "               ('Riya','Sharma',45,'F'), \n",
    "\n",
    "               ('Diya','Mirza',23,'F')''') \n",
    "\n",
    "table=''' UPDATE Student SET roll_no=roll_no-1 WHERE sex='M' ''' \n",
    "\n",
    "cursor.execute(table) \n",
    "\n",
    "cursor.execute('''SELECT * FROM Student1''') \n",
    "\n",
    " \n",
    "\n",
    "print(cursor.fetchall()) \n",
    "\n",
    "conn.commit() \n",
    "\n",
    "conn.close() "
   ]
  }
 ],
 "metadata": {
  "kernelspec": {
   "display_name": "base",
   "language": "python",
   "name": "python3"
  },
  "language_info": {
   "codemirror_mode": {
    "name": "ipython",
    "version": 3
   },
   "file_extension": ".py",
   "mimetype": "text/x-python",
   "name": "python",
   "nbconvert_exporter": "python",
   "pygments_lexer": "ipython3",
   "version": "3.9.7"
  },
  "orig_nbformat": 4
 },
 "nbformat": 4,
 "nbformat_minor": 2
}
