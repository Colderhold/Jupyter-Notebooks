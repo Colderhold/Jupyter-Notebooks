{
  "nbformat": 4,
  "nbformat_minor": 0,
  "metadata": {
    "colab": {
      "provenance": []
    },
    "kernelspec": {
      "name": "python3",
      "display_name": "Python 3"
    },
    "language_info": {
      "name": "python"
    }
  },
  "cells": [
    {
      "cell_type": "code",
      "execution_count": null,
      "metadata": {
        "colab": {
          "base_uri": "https://localhost:8080/"
        },
        "id": "a1soeCP4JyaN",
        "outputId": "f62bd37e-8f68-4053-84ea-7bb5f66e6580"
      },
      "outputs": [
        {
          "output_type": "stream",
          "name": "stdout",
          "text": [
            "Sending..\n",
            "Mail Sent!!\n"
          ]
        },
        {
          "output_type": "execute_result",
          "data": {
            "text/plain": [
              "(221,\n",
              " b'2.0.0 closing connection m128-20020a1fa386000000b0043fa3a96d9bsm1833993vke.54 - gsmtp')"
            ]
          },
          "metadata": {},
          "execution_count": 4
        }
      ],
      "source": [
        "import smtplib  \n",
        "from email.mime.text import MIMEText  \n",
        "body = \" Hello !\\nThis is a test mail, we are sending emails using python script!\"  \n",
        "msg = MIMEText ( body )  \n",
        "fromaddr = \"dhruvnsce121@siesgst.ac.in\"  \n",
        "toaddr = \"dhruvnsce121@siesgst.ac.in\"  \n",
        "msg [ 'From' ] = fromaddr  \n",
        "msg [ 'To' ] = toaddr  \n",
        "msg [ 'Subject' ] = 'Test Mail'  \n",
        "server = smtplib.SMTP ( 'smtp.gmail.com' , 587 )  \n",
        "server.starttls ()  \n",
        "server.login ( \"dhruvnsce121@siesgst.ac.in\" , \"dhruvshetty\")  \n",
        "print ( 'Sending..' )  \n",
        "server.send_message ( msg )  \n",
        "print ( 'Mail Sent!!' )  \n",
        "server. quit () "
      ]
    }
  ]
}