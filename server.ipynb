{
 "cells": [
  {
   "cell_type": "code",
   "execution_count": 2,
   "metadata": {},
   "outputs": [
    {
     "name": "stdout",
     "output_type": "stream",
     "text": [
      "Server created\n",
      "waiting for connection\n",
      "('127.0.0.1', 51971)\n",
      "123\n"
     ]
    }
   ],
   "source": [
    "import socket\n",
    "\n",
    "s=socket.socket()\n",
    "\n",
    "print('Server created')\n",
    "\n",
    "s.bind(('localhost',202))\n",
    "\n",
    "s.listen(3)\n",
    "\n",
    "print('waiting for connection')\n",
    "c1, ad=s.accept()\n",
    "\n",
    "print(ad)\n",
    "recvdmsg=c1.recv(1024).decode()\n",
    "print(recvdmsg)\n",
    "a=int(recvdmsg)+10\n",
    "\n",
    "c1.send(bytes(str(a).encode()))\n",
    "\n",
    "c1.close()\n",
    "s.close()"
   ]
  }
 ],
 "metadata": {
  "kernelspec": {
   "display_name": "base",
   "language": "python",
   "name": "python3"
  },
  "language_info": {
   "codemirror_mode": {
    "name": "ipython",
    "version": 3
   },
   "file_extension": ".py",
   "mimetype": "text/x-python",
   "name": "python",
   "nbconvert_exporter": "python",
   "pygments_lexer": "ipython3",
   "version": "3.9.7"
  },
  "orig_nbformat": 4
 },
 "nbformat": 4,
 "nbformat_minor": 2
}
