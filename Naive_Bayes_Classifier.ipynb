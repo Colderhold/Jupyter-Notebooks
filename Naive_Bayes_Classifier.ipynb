{
  "cells": [
    {
      "cell_type": "code",
      "execution_count": null,
      "metadata": {
        "colab": {
          "base_uri": "https://localhost:8080/"
        },
        "id": "HlMdQ_1_kSAW",
        "outputId": "d0fd1d86-1648-4259-94a9-55430ac4e1d4"
      },
      "outputs": [
        {
          "output_type": "stream",
          "name": "stdout",
          "text": [
            "   Car no.   Color    Type    Origin Stolen\n",
            "0        1     Red  Sports  Domestic    Yes\n",
            "1        2     Red  Sports  Domestic     No\n",
            "2        3     Red  Sports  Domestic    Yes\n",
            "3        4  Yellow  Sports  Domestic     No\n",
            "4        5  Yellow  Sports  Imported    Yes\n",
            "5        6  Yellow     SUV  Imported     No\n",
            "6        7  Yellow     SUV  Imported    Yes\n",
            "7        8  Yellow     SUV  Domestic     No\n",
            "8        9     Red     SUV  Imported     No\n",
            "9       10     Red  Sports  Imported    Yes\n"
          ]
        }
      ],
      "source": [
        "import random\n",
        "import pandas as pd\n",
        "\n",
        "df = pd.read_csv('Naive Bayes.csv')\n",
        "print(df)"
      ]
    },
    {
      "cell_type": "code",
      "execution_count": null,
      "metadata": {
        "colab": {
          "base_uri": "https://localhost:8080/"
        },
        "id": "_BfM5I1ujVMG",
        "outputId": "e770853f-abbb-46f9-abd4-bab5565d11f8"
      },
      "outputs": [
        {
          "output_type": "stream",
          "name": "stdout",
          "text": [
            "0.024000000000000004\n",
            "0.072\n",
            "No\n"
          ]
        }
      ],
      "source": [
        "def naive_bayes(d):\n",
        "    s_prob = len(d[d[\"Stolen\"] == \"Yes\"]) / len(d)\n",
        "    ns_prob = 1 - s_prob\n",
        "    c_prob = {}\n",
        "    t_prob = {}\n",
        "    o_prob = {}\n",
        "    nc_prob = {}\n",
        "    nt_prob = {}\n",
        "    no_prob = {}\n",
        "    for f in [\"Color\", \"Type\", \"Origin\"]:\n",
        "        for v in d[f].unique():\n",
        "            class_prob = d[d[\"Stolen\"] == \"Yes\"][f].value_counts() / len(d[d[\"Stolen\"] == \"Yes\"])\n",
        "            n_class_prob = d[d[\"Stolen\"] == \"No\"][f].value_counts() / len(d[d[\"Stolen\"] == \"No\"])\n",
        "            c_prob[f + \"_\" + v] = class_prob[v]\n",
        "            t_prob[f + \"_\" + v] = class_prob[v]\n",
        "            o_prob[f + \"_\" + v] = class_prob[v]\n",
        "\n",
        "            nc_prob[f + \"_\" + v] = n_class_prob[v]\n",
        "            nt_prob[f + \"_\" + v] = n_class_prob[v]\n",
        "            no_prob[f + \"_\" + v] = n_class_prob[v]\n",
        "\n",
        "    def predict(p):\n",
        "        prob = s_prob\n",
        "        n_prob = ns_prob\n",
        "        for f, v in p.items():\n",
        "            prob *= c_prob[f + \"_\" + v] if f == \"Color\" else t_prob[f + \"_\" + v] if f == \"Type\" else o_prob[f + \"_\" + v]\n",
        "            n_prob *= nc_prob[f + \"_\" + v] if f == \"Color\" else nt_prob[f + \"_\" + v] if f == \"Type\" else no_prob[f + \"_\" + v]\n",
        "        print(prob)\n",
        "        print(n_prob)\n",
        "        return \"Yes\" if prob > n_prob else \"No\"\n",
        "    return predict\n",
        "\n",
        "classifier = naive_bayes(df)\n",
        "p = {\"Color\": \"Yellow\", \"Type\": \"SUV\", \"Origin\": \"Imported\"}\n",
        "print(classifier(p))"
      ]
    }
  ],
  "metadata": {
    "colab": {
      "provenance": []
    },
    "kernelspec": {
      "display_name": "Python 3",
      "name": "python3"
    },
    "language_info": {
      "name": "python"
    }
  },
  "nbformat": 4,
  "nbformat_minor": 0
}