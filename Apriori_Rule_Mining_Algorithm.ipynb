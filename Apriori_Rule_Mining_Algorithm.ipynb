{
  "nbformat": 4,
  "nbformat_minor": 0,
  "metadata": {
    "colab": {
      "provenance": []
    },
    "kernelspec": {
      "name": "python3",
      "display_name": "Python 3"
    },
    "language_info": {
      "name": "python"
    }
  },
  "cells": [
    {
      "cell_type": "code",
      "execution_count": 19,
      "metadata": {
        "colab": {
          "base_uri": "https://localhost:8080/"
        },
        "id": "EJecC62vQUlV",
        "outputId": "650cf365-1a1a-4ba7-d010-50d4688827ce"
      },
      "outputs": [
        {
          "output_type": "stream",
          "name": "stdout",
          "text": [
            "L1 (Frequent Itemsets of Size 1):\n",
            "{'I1': 3, 'I3': 3, 'I4': 2, 'I2': 3, 'I5': 2}\n",
            "\n",
            "L2 (Frequent Itemsets of Size 2):\n",
            "{('I1', 'I3'): 2, ('I1', 'I2'): 2, ('I1', 'I5'): 2, ('I3', 'I4'): 2, ('I2', 'I5'): 2}\n",
            "\n",
            "L3 (Frequent Itemsets of Size 3):\n",
            "{('I1', 'I2', 'I5'): 2}\n",
            "\n",
            "Association Rules with Confidence >= 75%:\n",
            "Rule: I5 -> ('I1',), Confidence: 1.00\n",
            "Rule: I4 -> ('I3',), Confidence: 1.00\n",
            "Rule: I5 -> ('I2',), Confidence: 1.00\n",
            "Rule: I5 -> ('I1', 'I2'), Confidence: 1.00\n"
          ]
        }
      ],
      "source": [
        "import pandas as pd\n",
        "from itertools import combinations\n",
        "\n",
        "data = {'TID': [1, 2, 3, 4],\n",
        "        'Items': [['I1', 'I3', 'I4'],\n",
        "                  ['I2', 'I3', 'I4'],\n",
        "                  ['I1', 'I2', 'I3', 'I5'],\n",
        "                  ['I1', 'I2', 'I5']]\n",
        "        }\n",
        "\n",
        "df = pd.DataFrame(data)\n",
        "\n",
        "min_support = 2\n",
        "min_confidence = 0.75\n",
        "\n",
        "C1 = {}\n",
        "for _, row in df.iterrows():\n",
        "    for item in row['Items']:\n",
        "        if item in C1:\n",
        "            C1[item] += 1\n",
        "        else:\n",
        "            C1[item] = 1\n",
        "\n",
        "L1 = {item: support for item, support in C1.items() if support >= min_support}\n",
        "\n",
        "print(\"L1 (Frequent Itemsets of Size 1):\")\n",
        "print(L1)\n",
        "\n",
        "C2 = {}\n",
        "for pair in combinations(L1.keys(), 2):\n",
        "    C2[pair] = 0\n",
        "\n",
        "for _, row in df.iterrows():\n",
        "    for pair in combinations(row['Items'], 2):\n",
        "        if pair in C2:\n",
        "            C2[pair] += 1\n",
        "\n",
        "L2 = {itemset: support for itemset, support in C2.items() if support >= min_support}\n",
        "\n",
        "print(\"\\nL2 (Frequent Itemsets of Size 2):\")\n",
        "print(L2)\n",
        "\n",
        "C3 = {}\n",
        "for itemset in combinations(L2.keys(), 2):\n",
        "    common_items = set(itemset[0]).intersection(itemset[1])\n",
        "    if len(common_items) == 1:\n",
        "        item1, item2 = itemset[0], itemset[1]\n",
        "        candidate = tuple(sorted(set(item1 + item2)))\n",
        "        C3[candidate] = 0\n",
        "\n",
        "for _, row in df.iterrows():\n",
        "    for itemset in combinations(row['Items'], 3):\n",
        "        itemset = tuple(sorted(itemset))\n",
        "        if itemset in C3:\n",
        "            C3[itemset] += 1\n",
        "\n",
        "L3 = {itemset: support for itemset, support in C3.items() if support >= min_support}\n",
        "\n",
        "print(\"\\nL3 (Frequent Itemsets of Size 3):\")\n",
        "print(L3)\n",
        "\n",
        "association_rules = []\n",
        "\n",
        "for itemset, support in L2.items():\n",
        "    if len(itemset) > 1:\n",
        "        for item in itemset:\n",
        "            antecedent = item\n",
        "            consequent = tuple([i for i in itemset if i != item])\n",
        "            confidence = support / L1[antecedent]\n",
        "            if confidence >= min_confidence:\n",
        "                association_rules.append((antecedent, consequent, confidence))\n",
        "\n",
        "for itemset, support in L3.items():\n",
        "    if len(itemset) > 1:\n",
        "        for item in itemset:\n",
        "            antecedent = item\n",
        "            consequent = tuple([i for i in itemset if i != item])\n",
        "            confidence = support / L1[antecedent]\n",
        "            if confidence >= min_confidence:\n",
        "                association_rules.append((antecedent, consequent, confidence))\n",
        "\n",
        "print(\"\\nAssociation Rules with Confidence >= 75%:\")\n",
        "for rule in association_rules:\n",
        "    print(f\"Rule: {rule[0]} -> {rule[1]}, Confidence: {rule[2]:.2f}\")"
      ]
    }
  ]
}