{
  "nbformat": 4,
  "nbformat_minor": 0,
  "metadata": {
    "colab": {
      "provenance": []
    },
    "kernelspec": {
      "name": "python3",
      "display_name": "Python 3"
    },
    "language_info": {
      "name": "python"
    }
  },
  "cells": [
    {
      "cell_type": "code",
      "execution_count": null,
      "metadata": {
        "colab": {
          "base_uri": "https://localhost:8080/"
        },
        "id": "5ccMdIcMB7EP",
        "outputId": "7820f142-df7f-4d09-a87d-fa8e398b3257"
      },
      "outputs": [
        {
          "output_type": "stream",
          "name": "stdout",
          "text": [
            "    Day   Outlook Temp. Humidity   Wind  Decision\n",
            "0     1     Sunny   Hot     High    Weak       No\n",
            "1     2     Sunny   Hot     High  Strong       No\n",
            "2     3  Overcast   Hot     High    Weak      Yes\n",
            "3     4      Rain  Mild     High    Weak      Yes\n",
            "4     5      Rain  Cool   Normal    Weak      Yes\n",
            "5     6      Rain  Cool   Normal  Strong       No\n",
            "6     7  Overcast  Cool   Normal  Strong      Yes\n",
            "7     8     Sunny  Mild     High    Weak       No\n",
            "8     9     Sunny  Cool   Normal    Weak      Yes\n",
            "9    10      Rain  Mild   Normal    Weak      Yes\n",
            "10   11     Sunny  Mild   Normal  Strong      Yes\n",
            "11   12  Overcast  Mild     High  Strong      Yes\n",
            "12   13  Overcast   Hot   Normal    Weak      Yes\n",
            "13   14      Rain  Mild     High  Strong       No\n"
          ]
        }
      ],
      "source": [
        "import pandas as pd\n",
        "import numpy as np\n",
        "import math\n",
        "\n",
        "df = pd.read_csv('weather.csv')\n",
        "print(df)"
      ]
    },
    {
      "cell_type": "code",
      "source": [
        "def entropy(target_col):\n",
        "    entropy = 0\n",
        "    values = target_col.unique()\n",
        "    for value in values:\n",
        "        p = (target_col == value).sum() / len(target_col)\n",
        "        entropy += -p * math.log2(p)\n",
        "    return entropy\n",
        "\n",
        "def information_gain(data, feature, target):\n",
        "    total_entropy = entropy(data[target])\n",
        "    values = data[feature].unique()\n",
        "    weighted_entropy = 0\n",
        "    for value in values:\n",
        "        subset = data[data[feature] == value]\n",
        "        weighted_entropy += (len(subset) / len(data)) * entropy(subset[target])\n",
        "    return total_entropy - weighted_entropy\n",
        "\n",
        "def build_tree(data, target, features, level=0):\n",
        "    if len(data[target].unique()) == 1:\n",
        "        return data[target].unique()[0]\n",
        "\n",
        "    if len(features) == 0:\n",
        "        return data[target].mode()[0]\n",
        "\n",
        "    best_feature = max(features, key=lambda feature: information_gain(data, feature, target))\n",
        "    total_entropy = entropy(data[target])\n",
        "\n",
        "    print(\"  \" * level + f\"Entropy({best_feature}) = {total_entropy:.4f}\")\n",
        "\n",
        "    tree = {best_feature: {}}\n",
        "    features.remove(best_feature)\n",
        "\n",
        "    for value in data[best_feature].unique():\n",
        "        subset = data[data[best_feature] == value]\n",
        "        subtree = build_tree(subset, target, features, level + 1)\n",
        "        tree[best_feature][value] = subtree\n",
        "    return tree\n",
        "\n",
        "def print_tree(tree, feature_names=None, depth=0):\n",
        "    if isinstance(tree, dict):\n",
        "        feature = next(iter(tree))\n",
        "        print(\"  \" * depth + f\"{feature}:\")\n",
        "        for value, subtree in tree[feature].items():\n",
        "            print(\"  \" * (depth + 1) + f\"{value} ->\", end=\" \")\n",
        "            print_tree(subtree, feature_names, depth + 2)\n",
        "    else:\n",
        "        if feature_names is not None:\n",
        "            print(f\"{tree}\")\n",
        "        else:\n",
        "            print(f\"{tree}\")\n",
        "\n",
        "def predict_decision(tree, data_point):\n",
        "    if isinstance(tree, dict):\n",
        "        feature = next(iter(tree))\n",
        "        value = data_point[feature]\n",
        "        subtree = tree[feature].get(value)\n",
        "        if subtree is None:\n",
        "            return data_point['Decision']\n",
        "        return predict_decision(subtree, data_point)\n",
        "    else:\n",
        "        return tree\n",
        "\n",
        "features = ['Outlook', 'Humidity', 'Wind ']\n",
        "decision_tree = build_tree(df, 'Decision', features)\n",
        "print(\"\\nTree: \")\n",
        "print_tree(decision_tree, feature_names=features)\n",
        "\n",
        "predicted_point = {'Outlook': 'Rain', 'Temp': 'Mild', 'Humidity': 'Normal', 'Wind ': 'Weak', 'Decision': None}\n",
        "decision = predict_decision(decision_tree, predicted_point)\n",
        "print(f\"\\nPredicted Decision: {decision}\")"
      ],
      "metadata": {
        "colab": {
          "base_uri": "https://localhost:8080/"
        },
        "id": "QsaDGkrzDVUJ",
        "outputId": "ed686454-f10d-41d0-98b2-cda7355551fd"
      },
      "execution_count": null,
      "outputs": [
        {
          "output_type": "stream",
          "name": "stdout",
          "text": [
            "Entropy(Outlook) = 0.9403\n",
            "  Entropy(Humidity) = 0.9710\n",
            "  Entropy(Wind ) = 0.9710\n",
            "\n",
            "Tree: \n",
            "Outlook:\n",
            "  Sunny ->     Humidity:\n",
            "      High -> No\n",
            "      Normal -> Yes\n",
            "  Overcast -> Yes\n",
            "  Rain ->     Wind :\n",
            "      Weak -> Yes\n",
            "      Strong -> No\n",
            "\n",
            "Predicted Decision: Yes\n"
          ]
        }
      ]
    }
  ]
}